{
 "cells": [
  {
   "cell_type": "markdown",
   "metadata": {},
   "source": [
    "# Math Grade Predictor"
   ]
  },
  {
   "cell_type": "markdown",
   "metadata": {},
   "source": [
    "### Imports"
   ]
  },
  {
   "cell_type": "code",
   "execution_count": 1,
   "metadata": {},
   "outputs": [],
   "source": [
    "import pandas as pd\n",
    "import numpy as np\n",
    "from sklearn.impute import SimpleImputer\n",
    "from sklearn.decomposition import PCA, TruncatedSVD\n",
    "from sklearn.compose import ColumnTransformer\n",
    "from sklearn.pipeline import Pipeline, make_pipeline\n",
    "from sklearn.preprocessing import StandardScaler, OneHotEncoder, FunctionTransformer\n",
    "from sklearn.linear_model import LinearRegression, Ridge, Lasso\n",
    "from sklearn.model_selection import train_test_split\n",
    "from sklearn.metrics import mean_squared_error, mean_absolute_error, r2_score\n",
    "from sklearn.ensemble import RandomForestRegressor"
   ]
  },
  {
   "cell_type": "markdown",
   "metadata": {},
   "source": [
    "### Utility Functions"
   ]
  },
  {
   "cell_type": "code",
   "execution_count": 2,
   "metadata": {},
   "outputs": [],
   "source": [
    "pd.set_option('display.max_rows', None)\n",
    "pd.set_option('display.max_columns', None)"
   ]
  },
  {
   "cell_type": "code",
   "execution_count": 3,
   "metadata": {},
   "outputs": [],
   "source": [
    "# Utility function to print MSE, MAE and R2 metrics\n",
    "def calc_MSE_MAE_R2(y_test, y_pred):\n",
    "    mse = mean_squared_error(y_test, y_pred)\n",
    "    mae = mean_absolute_error(y_test, y_pred)\n",
    "    r2  = r2_score(y_test, y_pred)\n",
    "    print(f\"MSE: {mse}\\nMAE: {mae}\\nR2: {r2}\")\n"
   ]
  },
  {
   "cell_type": "markdown",
   "metadata": {},
   "source": [
    "### Preprocessing"
   ]
  },
  {
   "cell_type": "code",
   "execution_count": 4,
   "metadata": {},
   "outputs": [],
   "source": [
    "# Reading initial data\n",
    "df_train = pd.read_csv('train.csv')\n",
    "df_test  = pd.read_csv('test.csv')"
   ]
  },
  {
   "cell_type": "code",
   "execution_count": 5,
   "metadata": {},
   "outputs": [],
   "source": [
    "# Matching train columns with test columns\n",
    "df_train_proc = df_train.drop(columns=df_train.columns[~df_train.columns.isin(df_test.columns)])\n",
    "df_train_proc = pd.concat([df_train_proc, df_train['NU_NOTA_MT']], axis=1)\n",
    "\n",
    "# Drop every row where NU_NOTA_MT is null\n",
    "# df_train_proc.dropna(axis=0, subset=['NU_NOTA_MT'], inplace=True)\n",
    "\n",
    "# Fill null values of NU_NOTA_MT with 0s\n",
    "df_train_proc['NU_NOTA_MT'].fillna(value=0, inplace=True)"
   ]
  },
  {
   "cell_type": "code",
   "execution_count": 6,
   "metadata": {},
   "outputs": [],
   "source": [
    "# Split train and test\n",
    "y = df_train_proc['NU_NOTA_MT']\n",
    "X = df_train_proc.drop(columns=['NU_NOTA_MT'])\n",
    "X_train, X_test, y_train, y_test = train_test_split(X, y, test_size=0.3, random_state=42)"
   ]
  },
  {
   "cell_type": "code",
   "execution_count": 7,
   "metadata": {},
   "outputs": [],
   "source": [
    "# Workaround to fix a testset incompleteness\n",
    "new_row = df_train_proc.iloc[3, :].copy()\n",
    "new_row.name = 50000\n",
    "new_row['NU_INSCRICAO', 'CO_PROVA_CH', 'CO_PROVA_CN'] = ['73b4e129e9ffe8ab17f6d094db1876ef3f363e1b', \n",
    "                                                         'd5f6d17523d2cce3e4dc0a7f0582a85cec1c15ee', \n",
    "                                                         'a27a1efea095c8a973496f0b57a24ac6775d95b0']\n",
    "new_row = new_row.drop(labels=['NU_NOTA_MT'])\n",
    "X_test = X_test.append(new_row)\n",
    "df_test = df_test.append(new_row)\n",
    "y_test = y_test.append(pd.Series(df_train_proc.iloc[3,-1].copy()))"
   ]
  },
  {
   "cell_type": "code",
   "execution_count": 8,
   "metadata": {},
   "outputs": [],
   "source": [
    "# Pipeline to fill null values\n",
    "fill_na_cols = ['TP_SEXO', 'CO_PROVA_CN', 'CO_PROVA_CH', 'CO_PROVA_LC', 'CO_PROVA_MT', \n",
    "                'Q001', 'Q002', 'Q006', 'Q024', 'Q025', 'Q026', 'Q027', 'Q047']\n",
    "fill_na_pipeline = Pipeline([('fillna', SimpleImputer(strategy='constant', fill_value='0'))])\n",
    "onehot_pipeline = Pipeline([('onehot', OneHotEncoder())])\n",
    "\n",
    "# Pipeline to impute median\n",
    "median_cols = ['TP_ENSINO', 'TP_DEPENDENCIA_ADM_ESC', 'TP_STATUS_REDACAO']\n",
    "median_pipeline = Pipeline([('median', SimpleImputer(strategy='median'))])\n",
    "\n",
    "# Pipeline to impute mean\n",
    "mean_cols = ['NU_NOTA_CN', 'NU_NOTA_CH', 'NU_NOTA_LC', 'NU_NOTA_COMP1', 'NU_NOTA_COMP2', \n",
    "             'NU_NOTA_COMP3', 'NU_NOTA_COMP4', 'NU_NOTA_COMP5', 'NU_NOTA_REDACAO']\n",
    "mean_pipeline = Pipeline([('mean', SimpleImputer(strategy='mean'))])\n",
    "\n",
    "# Dropping NU_INSCRICAO column because of it's high variance.\n",
    "# Dropping SG_UF_RESIDENCIA column because CO_UF_RESIDENCIA is a numerical reference to it.\n",
    "drop_cols = ['NU_INSCRICAO', 'SG_UF_RESIDENCIA']\n",
    "\n",
    "# Preprocessing pipeline\n",
    "preprocessor = ColumnTransformer(transformers=[\n",
    "    ('drop', 'drop', drop_cols),\n",
    "    ('fillna', fill_na_pipeline, fill_na_cols),\n",
    "    ('median', median_pipeline, median_cols),\n",
    "    ('mean',  mean_pipeline, mean_cols)\n",
    "], remainder='passthrough')\n",
    "\n",
    "# Training pipeline\n",
    "std_pca_lasso_pipeline = Pipeline([\n",
    "    ('std', StandardScaler(with_mean=False)),\n",
    "    ('svd', TruncatedSVD(100)),\n",
    "    ('pca', PCA()),\n",
    "    ('rfr', RandomForestRegressor())\n",
    "])\n",
    "\n",
    "# Unifying the pipelines into one\n",
    "pipeline = make_pipeline(\n",
    "    preprocessor,\n",
    "    OneHotEncoder(handle_unknown='ignore'),\n",
    "    std_pca_lasso_pipeline\n",
    ")"
   ]
  },
  {
   "cell_type": "markdown",
   "metadata": {},
   "source": [
    "### Training"
   ]
  },
  {
   "cell_type": "code",
   "execution_count": 9,
   "metadata": {},
   "outputs": [
    {
     "name": "stdout",
     "output_type": "stream",
     "text": [
      "MSE: 5146.257702927184\n",
      "MAE: 47.114195145631065\n",
      "R2: 0.9043301038678958\n"
     ]
    }
   ],
   "source": [
    "# Training model\n",
    "pipe = pipeline.fit(X_train, y_train)\n",
    "result = pipeline.predict(X_test)\n",
    "\n",
    "# Showing Metrics\n",
    "calc_MSE_MAE_R2(y_test, result)"
   ]
  },
  {
   "cell_type": "code",
   "execution_count": 10,
   "metadata": {},
   "outputs": [
    {
     "data": {
      "text/plain": [
       "0.9678228449410695"
      ]
     },
     "execution_count": 10,
     "metadata": {},
     "output_type": "execute_result"
    }
   ],
   "source": [
    "# Show Score\n",
    "pipeline.score(X_train, y_train)"
   ]
  },
  {
   "cell_type": "code",
   "execution_count": 11,
   "metadata": {},
   "outputs": [],
   "source": [
    "# Predicting Math Grades\n",
    "y_final = pipeline.predict(df_test)"
   ]
  },
  {
   "cell_type": "markdown",
   "metadata": {},
   "source": [
    "### Preparing the output file"
   ]
  },
  {
   "cell_type": "code",
   "execution_count": 12,
   "metadata": {},
   "outputs": [
    {
     "data": {
      "text/html": [
       "<div>\n",
       "<style scoped>\n",
       "    .dataframe tbody tr th:only-of-type {\n",
       "        vertical-align: middle;\n",
       "    }\n",
       "\n",
       "    .dataframe tbody tr th {\n",
       "        vertical-align: top;\n",
       "    }\n",
       "\n",
       "    .dataframe thead th {\n",
       "        text-align: right;\n",
       "    }\n",
       "</style>\n",
       "<table border=\"1\" class=\"dataframe\">\n",
       "  <thead>\n",
       "    <tr style=\"text-align: right;\">\n",
       "      <th></th>\n",
       "      <th>NU_INSCRICAO</th>\n",
       "      <th>NU_NOTA_MT</th>\n",
       "    </tr>\n",
       "  </thead>\n",
       "  <tbody>\n",
       "    <tr>\n",
       "      <th>0</th>\n",
       "      <td>73ff9fcc02f0a99919906c942c2e1a1042cdcf98</td>\n",
       "      <td>439.366</td>\n",
       "    </tr>\n",
       "    <tr>\n",
       "      <th>1</th>\n",
       "      <td>71a95f9f1b91a82c65ad94abbdf9f54e6066f968</td>\n",
       "      <td>480.940</td>\n",
       "    </tr>\n",
       "    <tr>\n",
       "      <th>2</th>\n",
       "      <td>b38a03232f43b11c9d0788abaf060f7366053b6d</td>\n",
       "      <td>497.952</td>\n",
       "    </tr>\n",
       "    <tr>\n",
       "      <th>3</th>\n",
       "      <td>70b682d9a3636be23f6120fa9d6b164eb3c6002d</td>\n",
       "      <td>0.000</td>\n",
       "    </tr>\n",
       "    <tr>\n",
       "      <th>4</th>\n",
       "      <td>715494628a50142ce8cb17191cfe6d0f3cae0934</td>\n",
       "      <td>443.237</td>\n",
       "    </tr>\n",
       "  </tbody>\n",
       "</table>\n",
       "</div>"
      ],
      "text/plain": [
       "                               NU_INSCRICAO  NU_NOTA_MT\n",
       "0  73ff9fcc02f0a99919906c942c2e1a1042cdcf98     439.366\n",
       "1  71a95f9f1b91a82c65ad94abbdf9f54e6066f968     480.940\n",
       "2  b38a03232f43b11c9d0788abaf060f7366053b6d     497.952\n",
       "3  70b682d9a3636be23f6120fa9d6b164eb3c6002d       0.000\n",
       "4  715494628a50142ce8cb17191cfe6d0f3cae0934     443.237"
      ]
     },
     "execution_count": 12,
     "metadata": {},
     "output_type": "execute_result"
    }
   ],
   "source": [
    "# Preparing and creating the answer.csv\n",
    "answer = pd.DataFrame(df_test['NU_INSCRICAO'])\n",
    "answer.drop(labels=50000, inplace=True)\n",
    "answer = pd.concat([answer, pd.Series(y_final)], axis=1, join='inner')\n",
    "answer.columns = ['NU_INSCRICAO', 'NU_NOTA_MT']\n",
    "answer.to_csv('answer.csv', index=False)\n",
    "answer.head()"
   ]
  }
 ],
 "metadata": {
  "kernelspec": {
   "display_name": "Python 3",
   "language": "python",
   "name": "python3"
  },
  "language_info": {
   "codemirror_mode": {
    "name": "ipython",
    "version": 3
   },
   "file_extension": ".py",
   "mimetype": "text/x-python",
   "name": "python",
   "nbconvert_exporter": "python",
   "pygments_lexer": "ipython3",
   "version": "3.8.2"
  }
 },
 "nbformat": 4,
 "nbformat_minor": 4
}
